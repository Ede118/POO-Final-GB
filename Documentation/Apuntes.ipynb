{
 "cells": [
  {
   "cell_type": "markdown",
   "id": "1529a279",
   "metadata": {},
   "source": [
    "# Objetivo de este archivo"
   ]
  },
  {
   "cell_type": "markdown",
   "id": "849be185",
   "metadata": {},
   "source": [
    "Este archivo cumple el objetivo único de servir como un machete/apuntes de grupo para tener una guia paso a paso del proyecto en el que se esta trabajando."
   ]
  }
 ],
 "metadata": {
  "language_info": {
   "name": "python"
  }
 },
 "nbformat": 4,
 "nbformat_minor": 5
}
