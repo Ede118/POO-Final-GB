{
 "cells": [
  {
   "cell_type": "markdown",
   "id": "1529a279",
   "metadata": {},
   "source": [
    "# Objetivo de este archivo"
   ]
  },
  {
   "cell_type": "markdown",
   "id": "849be185",
   "metadata": {},
   "source": [
    "Este archivo cumple el objetivo único de servir como un machete/apuntes de grupo para tener una guia paso a paso del proyecto en el que se esta trabajando."
   ]
  },
  {
   "cell_type": "markdown",
   "id": "e16e0474",
   "metadata": {},
   "source": [
    "## Arquitectura del proyecto"
   ]
  },
  {
   "cell_type": "markdown",
   "id": "aa7badb8",
   "metadata": {},
   "source": [
    "Para guiarse en el desarrollo del proyecto, se discriminan 3 grupos:\n",
    "\n",
    "* Cliente:\n",
    "\n",
    "* Servidor:\n",
    "\n",
    "* Base de datos: Se considera de interes crear una grupo separado para la base de datos con el único objetivo de dividir las responsabilidades del programa. Este módulo será el encargado de realizar la persistencia de todos los datos de interes, entre ellos: usuarios, permisos, log de acciones, etc.\n",
    "\n",
    "![alt text](Pictures/Diagrama%20v2.jpg)"
   ]
  },
  {
   "cell_type": "markdown",
   "id": "12d5766a",
   "metadata": {},
   "source": [
    "# Comandos útiles"
   ]
  },
  {
   "cell_type": "markdown",
   "id": "4461b6da",
   "metadata": {},
   "source": [
    "Comando para ver el IP del equipo Linux:\n",
    "```bash\n",
    "nmcli dev show wlp0s20f3\n",
    "```"
   ]
  }
 ],
 "metadata": {
  "language_info": {
   "name": "python"
  }
 },
 "nbformat": 4,
 "nbformat_minor": 5
}
